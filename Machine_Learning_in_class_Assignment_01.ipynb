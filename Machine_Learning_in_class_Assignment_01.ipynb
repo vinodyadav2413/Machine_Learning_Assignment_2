{
  "nbformat": 4,
  "nbformat_minor": 0,
  "metadata": {
    "colab": {
      "provenance": []
    },
    "kernelspec": {
      "name": "python3",
      "display_name": "Python 3"
    },
    "language_info": {
      "name": "python"
    }
  },
  "cells": [
    {
      "cell_type": "code",
      "execution_count": 62,
      "metadata": {
        "colab": {
          "base_uri": "https://localhost:8080/"
        },
        "id": "Oyn3WtL_0M_K",
        "outputId": "a8dc8f99-2f87-4a7f-8cd7-8a56bd4efff5"
      },
      "outputs": [
        {
          "output_type": "stream",
          "name": "stdout",
          "text": [
            "* \n",
            "\n",
            "** \n",
            "\n",
            "*** \n",
            "\n",
            "**** \n",
            "\n",
            "***** \n",
            "\n",
            "**** \n",
            "\n",
            "*** \n",
            "\n",
            "** \n",
            "\n",
            "* \n",
            "\n"
          ]
        }
      ],
      "source": [
        "for i in range(1,6):\n",
        "  print(i*'*','\\n')  \n",
        "for j in range(4,0,-1):\n",
        "  print(j*'*','\\n') "
      ]
    },
    {
      "cell_type": "code",
      "source": [
        "from ast import Index\n",
        "my_list = [10, 20, 30, 40, 50, 60, 70, 80, 90, 100]\n",
        "for i in my_list:\n",
        "  a=my_list.index(i)\n",
        "  if a%2 !=0:\n",
        "    print('Number at index %d:'%a,i)\n",
        "\n"
      ],
      "metadata": {
        "colab": {
          "base_uri": "https://localhost:8080/"
        },
        "id": "nH_qqXYf5AIZ",
        "outputId": "ecb46349-1f2e-43c0-add8-841fb6838dee"
      },
      "execution_count": 8,
      "outputs": [
        {
          "output_type": "stream",
          "name": "stdout",
          "text": [
            "Number at index 1: 20\n",
            "Number at index 3: 40\n",
            "Number at index 5: 60\n",
            "Number at index 7: 80\n",
            "Number at index 9: 100\n"
          ]
        }
      ]
    },
    {
      "cell_type": "code",
      "source": [
        "x=[23, 'Python', 23.98]\n",
        "y=[]\n",
        "for i in x:\n",
        "    y.append(type(i))\n",
        "print(x)\n",
        "print(y)"
      ],
      "metadata": {
        "colab": {
          "base_uri": "https://localhost:8080/"
        },
        "id": "IFAFJKt26xOt",
        "outputId": "e76a49b3-d879-4cd0-a870-21f0ec143563"
      },
      "execution_count": 61,
      "outputs": [
        {
          "output_type": "stream",
          "name": "stdout",
          "text": [
            "[23, 'Python', 23.98]\n",
            "[<class 'int'>, <class 'str'>, <class 'float'>]\n"
          ]
        }
      ]
    },
    {
      "cell_type": "code",
      "source": [
        "l=[1,2,3,3,3,3,4,5]\n",
        "print('Unique List:',list(set(l)))"
      ],
      "metadata": {
        "colab": {
          "base_uri": "https://localhost:8080/"
        },
        "id": "T1b9WLGE9NmI",
        "outputId": "2ea55ed8-7d8c-48ce-842a-aa6ce5ee2ecf"
      },
      "execution_count": 4,
      "outputs": [
        {
          "output_type": "stream",
          "name": "stdout",
          "text": [
            "Unique List: [1, 2, 3, 4, 5]\n"
          ]
        }
      ]
    },
    {
      "cell_type": "code",
      "source": [
        "s='The quick Brow Fox'\n",
        "a=0\n",
        "b=0\n",
        "for i in s:\n",
        "  if (i.islower()):\n",
        "    a+=1\n",
        "  if (i.isupper()):\n",
        "    b+=1  \n",
        "print(\"No. of Upper-case characters:\",b)\n",
        "print(\"No. of Lower-case Characters:\",a)    \n",
        "\n"
      ],
      "metadata": {
        "colab": {
          "base_uri": "https://localhost:8080/"
        },
        "id": "41uyGNwf9bPB",
        "outputId": "03a0a0ba-bde2-4c02-a17f-481d66d282fe"
      },
      "execution_count": 1,
      "outputs": [
        {
          "output_type": "stream",
          "name": "stdout",
          "text": [
            "No. of Upper-case characters: 3\n",
            "No. of Lower-case Characters: 12\n"
          ]
        }
      ]
    }
  ]
}